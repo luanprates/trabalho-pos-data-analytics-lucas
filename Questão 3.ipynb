{
 "cells": [
  {
   "cell_type": "markdown",
   "metadata": {},
   "source": [
    "# Avaliação\tde\tAprendizagem\tde\tMáquina\tem\tData\tScience/Data\tAnalytics"
   ]
  },
  {
   "cell_type": "markdown",
   "metadata": {},
   "source": [
    "Luan Prates 07 setembro de 2018"
   ]
  },
  {
   "cell_type": "markdown",
   "metadata": {},
   "source": [
    "### Deverá\tser\tenviado\tum\tarquivo\ttexto\tcontendo\tos\tgráficos,\tresultados\te\tcomentários\trequeridos\tem\tcada\titem.\tObs.\tAntes\tde\tcada\tum\tdos\texercícios,\tnormalize\tos\tdados\tde\tentrada"
   ]
  },
  {
   "cell_type": "markdown",
   "metadata": {},
   "source": [
    "## Questão 3\n",
    "Carregue os dados contidos no Dataset de Câncer (breast cancer) do scikit-learn. - Divida o conjunto de dados entre treino e teste.  - Utilize o Classificador do SVM (SVC) para realizar a classificação dos dados carregados. - Varie o parâmetro C de 0.1 a 1 e mostre um gráfico contendo a diferença entre os scores obtidos no conjunto de treino para cada valor do parâmetro C. - Varie o parâmetro C de 0.1 a 1 e mostre um gráfico contendo a diferença entre os scores obtidos no conjunto de teste para cada valor do parâmetro C. Justifique as diferenças apresentadas em nos gráficos do treino e do teste para cada valor de C. "
   ]
  },
  {
   "cell_type": "code",
   "execution_count": 10,
   "metadata": {},
   "outputs": [],
   "source": [
    "import pandas as pd\n",
    "import numpy as np\n",
    "import matplotlib.pyplot as plt\n",
    "plt.style.use('fivethirtyeight')\n",
    "#plt.style.use('seaborn-paper')\n",
    "\n",
    "%matplotlib inline\n",
    "\n",
    "from sklearn.datasets import load_breast_cancer\n",
    "from sklearn.svm import SVC\n",
    "from sklearn.model_selection import train_test_split\n",
    "from sklearn.preprocessing import scale"
   ]
  },
  {
   "cell_type": "code",
   "execution_count": 11,
   "metadata": {},
   "outputs": [],
   "source": [
    "dataset = load_breast_cancer()\n",
    "(X, y) = load_breast_cancer(return_X_y = True)"
   ]
  },
  {
   "cell_type": "code",
   "execution_count": 12,
   "metadata": {},
   "outputs": [],
   "source": [
    "X_scale = scale(X)\n",
    "X_treino, X_teste, y_treino, y_teste = train_test_split(X_scale, y, \n",
    "                                                        test_size = 0.20, \n",
    "                                                        random_state = 7)"
   ]
  },
  {
   "cell_type": "code",
   "execution_count": 13,
   "metadata": {},
   "outputs": [],
   "source": [
    "c_valores = np.arange(0.1, 1.1, 0.1)"
   ]
  },
  {
   "cell_type": "code",
   "execution_count": 14,
   "metadata": {},
   "outputs": [],
   "source": [
    "valores_treino = []\n",
    "valores_teste = []"
   ]
  },
  {
   "cell_type": "code",
   "execution_count": 15,
   "metadata": {},
   "outputs": [],
   "source": [
    "for c in c_valores:\n",
    "    modelo = SVC(C=c)\n",
    "    modelo.fit(X_treino, y_treino)\n",
    "    valores_teste.append(modelo.score(X_treino, y_treino))\n",
    "    valores_treino.append(modelo.score(X_teste, y_teste))  "
   ]
  },
  {
   "cell_type": "code",
   "execution_count": 16,
   "metadata": {},
   "outputs": [
    {
     "data": {
      "text/plain": [
       "3"
      ]
     },
     "execution_count": 16,
     "metadata": {},
     "output_type": "execute_result"
    }
   ],
   "source": [
    "max_treino = max(valores_treino)\n",
    "valores_treino.index(max_treino)"
   ]
  },
  {
   "cell_type": "code",
   "execution_count": 18,
   "metadata": {},
   "outputs": [
    {
     "data": {
      "text/plain": [
       "0.9824561403508771"
      ]
     },
     "execution_count": 18,
     "metadata": {},
     "output_type": "execute_result"
    }
   ],
   "source": [
    "max(valores_treino)"
   ]
  },
  {
   "cell_type": "code",
   "execution_count": 19,
   "metadata": {},
   "outputs": [
    {
     "data": {
      "text/plain": [
       "0.9868131868131869"
      ]
     },
     "execution_count": 19,
     "metadata": {},
     "output_type": "execute_result"
    }
   ],
   "source": [
    "max(valores_teste)"
   ]
  },
  {
   "cell_type": "code",
   "execution_count": 22,
   "metadata": {},
   "outputs": [
    {
     "data": {
      "text/plain": [
       "[0.9385964912280702,\n",
       " 0.9649122807017544,\n",
       " 0.9736842105263158,\n",
       " 0.9824561403508771,\n",
       " 0.9824561403508771,\n",
       " 0.9824561403508771,\n",
       " 0.9824561403508771,\n",
       " 0.9824561403508771,\n",
       " 0.9824561403508771,\n",
       " 0.9824561403508771]"
      ]
     },
     "execution_count": 22,
     "metadata": {},
     "output_type": "execute_result"
    }
   ],
   "source": [
    "valores_treino"
   ]
  },
  {
   "cell_type": "code",
   "execution_count": 17,
   "metadata": {},
   "outputs": [
    {
     "data": {
      "image/png": "[encoded data removed]",
      "text/plain": [
       "<Figure size 432x288 with 1 Axes>"
      ]
     },
     "metadata": {},
     "output_type": "display_data"
    }
   ],
   "source": [
    "plt.plot(c_valores, valores_treino, c='r', label='Teino')\n",
    "plt.plot(c_valores, valores_teste, c='g', label='Teste')\n",
    "plt.title('Questão 3')\n",
    "plt.xlabel('Valores para C')\n",
    "plt.ylabel('Score')\n",
    "plt.legend()\n",
    "plt.savefig('imagens/Questão-3.png', transparent = True)\n",
    "plt.show()"
   ]
  },
  {
   "cell_type": "code",
   "execution_count": null,
   "metadata": {},
   "outputs": [],
   "source": []
  },
  {
   "cell_type": "code",
   "execution_count": null,
   "metadata": {},
   "outputs": [],
   "source": []
  }
 ],
 "metadata": {
  "kernelspec": {
   "display_name": "Python 3",
   "language": "python",
   "name": "python3"
  },
  "language_info": {
   "codemirror_mode": {
    "name": "ipython",
    "version": 3
   },
   "file_extension": ".py",
   "mimetype": "text/x-python",
   "name": "python",
   "nbconvert_exporter": "python",
   "pygments_lexer": "ipython3",
   "version": "3.6.5"
  }
 },
 "nbformat": 4,
 "nbformat_minor": 2
}
