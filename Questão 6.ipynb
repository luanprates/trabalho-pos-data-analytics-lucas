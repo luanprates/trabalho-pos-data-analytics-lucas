{
 "cells": [
  {
   "cell_type": "markdown",
   "metadata": {},
   "source": [
    "# Avaliação\tde\tAprendizagem\tde\tMáquina\tem\tData\tScience/Data\tAnalytics"
   ]
  },
  {
   "cell_type": "markdown",
   "metadata": {},
   "source": [
    "Luan Prates 07 setembro de 2018"
   ]
  },
  {
   "cell_type": "markdown",
   "metadata": {},
   "source": [
    "## Questão 6\n",
    "\n",
    "Carregue os dados contidos no Dataset de Iris do scikit-learn. - Divida o conjunto de dados entre treino e teste.  - Utilize a Random Forest para realizar a classificação dos dados carregados. - Varie o parâmetro n_estimators de 1 a 100 (de 10 em 10) e mostre um gráfico contendo a diferença entre os scores obtidos no conjunto de treino para cada valor do parâmetro n_estimators. - Varie o parâmetro n_estimators de 1 a 100 (de 10 em 10) e mostre um gráfico contendo a diferença entre os scores obtidos no conjunto de teste para cada valor do parâmetro n_estimators. Justifique as diferenças apresentadas em nos gráficos do treino e do teste para cada valor de n_estimators. Apresente a matriz de confusão dos dados de teste. "
   ]
  },
  {
   "cell_type": "code",
   "execution_count": 20,
   "metadata": {},
   "outputs": [],
   "source": [
    "import pandas as pd\n",
    "import numpy as np\n",
    "import matplotlib.pyplot as plt\n",
    "plt.style.use('fivethirtyeight')\n",
    "%matplotlib inline\n",
    "\n",
    "from sklearn.preprocessing import scale\n",
    "from sklearn.model_selection import train_test_split\n",
    "from sklearn.ensemble import RandomForestClassifier\n"
   ]
  },
  {
   "cell_type": "code",
   "execution_count": 21,
   "metadata": {},
   "outputs": [],
   "source": [
    "X, y = load_iris(return_X_y=True)\n",
    "X_scale = scale(X)"
   ]
  },
  {
   "cell_type": "code",
   "execution_count": 22,
   "metadata": {},
   "outputs": [],
   "source": [
    "X_treino, X_teste, y_treino, y_teste = train_test_split(X_scale, y, \n",
    "                                                        test_size = 0.20, \n",
    "                                                        random_state = 7)"
   ]
  },
  {
   "cell_type": "code",
   "execution_count": 23,
   "metadata": {},
   "outputs": [
    {
     "data": {
      "text/plain": [
       "array([  1,  10,  20,  30,  40,  50,  60,  70,  80,  90, 100])"
      ]
     },
     "execution_count": 23,
     "metadata": {},
     "output_type": "execute_result"
    }
   ],
   "source": [
    "n_estimadores = np.arange(0, 101, 10)\n",
    "n_estimadores[0] = 1\n",
    "n_estimadores"
   ]
  },
  {
   "cell_type": "code",
   "execution_count": 25,
   "metadata": {},
   "outputs": [],
   "source": [
    "treino = []\n",
    "teste = []\n",
    "for n in n_estimadores:\n",
    "    model = RandomForestClassifier(n_estimators=n)\n",
    "    model.fit(X_treino, y_treino)\n",
    "    treino.append(model.score(X_treino, y_treino))\n",
    "    teste.append(model.score(X_teste, y_teste))"
   ]
  },
  {
   "cell_type": "code",
   "execution_count": 26,
   "metadata": {},
   "outputs": [
    {
     "data": {
      "image/png": "[encoded data removed]",
      "text/plain": [
       "<Figure size 432x288 with 1 Axes>"
      ]
     },
     "metadata": {},
     "output_type": "display_data"
    }
   ],
   "source": [
    "plt.plot(n_estimadores, treino, c='r', label='Treino')\n",
    "plt.plot(n_estimadores, teste, c='b', label='Teste')\n",
    "plt.title('Questão 6')\n",
    "plt.ylabel('Scores')\n",
    "plt.xlabel('Número de Estimadores')\n",
    "plt.legend()\n",
    "plt.savefig('imagens/Questão-6.png', transparent = True)\n",
    "plt.show()"
   ]
  },
  {
   "cell_type": "code",
   "execution_count": null,
   "metadata": {},
   "outputs": [],
   "source": []
  }
 ],
 "metadata": {
  "kernelspec": {
   "display_name": "Python 3",
   "language": "python",
   "name": "python3"
  },
  "language_info": {
   "codemirror_mode": {
    "name": "ipython",
    "version": 3
   },
   "file_extension": ".py",
   "mimetype": "text/x-python",
   "name": "python",
   "nbconvert_exporter": "python",
   "pygments_lexer": "ipython3",
   "version": "3.6.5"
  }
 },
 "nbformat": 4,
 "nbformat_minor": 2
}
