{
 "cells": [
  {
   "cell_type": "markdown",
   "metadata": {},
   "source": [
    "## Questão\t10\n",
    "- Carregue os dados contidos no Dataset de Câncer (breast cancer) do scikit-learn. \n",
    "- Utilize o modelo K-means para encontrar os grupos dos dados carregados. \n",
    "- Varie o parâmetro n_clusters para 2, 5 e 10. \n",
    "- Calcule a quantidade de elementos em cada cluster para cada valor do parâmetro n_clusters.\n",
    "\n",
    "Para obter a quantidade de elementos que ficaram no cluster i, utilize o código km.labels_[km.labels_ == i].shape[0], considerando que km é a variável que contém o fit sobre o KMeans. Baseado nos resultados das divisões dos dados entre os cluster obtidos na etapa anterior, justifique qual valor você escolheria para n_clusters."
   ]
  },
  {
   "cell_type": "code",
   "execution_count": 4,
   "metadata": {},
   "outputs": [],
   "source": [
    "import pandas as pd\n",
    "import numpy as np\n",
    "import matplotlib.pyplot as plt\n",
    "plt.style.use('fivethirtyeight')\n",
    "#plt.style.use('seaborn-paper')\n",
    "%matplotlib inline\n",
    "\n",
    "from sklearn.preprocessing import scale\n",
    "from sklearn.model_selection import train_test_split\n",
    "from sklearn.metrics import confusion_matrix\n",
    "from sklearn import datasets\n",
    "from sklearn.cluster import KMeans"
   ]
  },
  {
   "cell_type": "code",
   "execution_count": 5,
   "metadata": {},
   "outputs": [],
   "source": [
    "breast_cancer = datasets.load_breast_cancer()\n",
    "X = breast_cancer.data\n",
    "X_scale = scale(X)\n",
    "y = breast_cancer.target\n",
    "class_names = breast_cancer.target_names"
   ]
  },
  {
   "cell_type": "code",
   "execution_count": 6,
   "metadata": {},
   "outputs": [],
   "source": [
    "X_treino, X_teste, y_treino, y_teste = train_test_split(X_scale, y, \n",
    "                                                        test_size = 0.20, \n",
    "                                                        random_state = 57)"
   ]
  },
  {
   "cell_type": "code",
   "execution_count": null,
   "metadata": {},
   "outputs": [],
   "source": [
    "treino = []\n",
    "teste = []\n",
    "for n in t_camadas:\n",
    "    model = KMeans(hidden_layer_sizes=n, random_state=57)\n",
    "    model.fit(X_treino, y_treino)\n",
    "    treino.append(model.score(X_treino, y_treino))\n",
    "    teste.append(model.score(X_teste, y_teste))"
   ]
  },
  {
   "cell_type": "code",
   "execution_count": null,
   "metadata": {},
   "outputs": [],
   "source": [
    "# Variando n_clusters\n",
    "n_clusters_set = [2, 5, 10]\n",
    "\n",
    "n_elem_cluster_kmn_cancer = []\n",
    "\n",
    "for n_clusters in n_clusters_set:\n",
    "    clf_kmn = KMeans(n_clusters=n_clusters, random_state=0)\n",
    "    clf_kmn.fit(X_cancer)\n",
    "    print('Para {} clusters: '.format(n_clusters))\n",
    "    for i in range(0, n_clusters):\n",
    "        n_elem_cluster_kmn_cancer.append(clf_kmn.labels_[clf_kmn.labels_ == i].shape[0])\n",
    "    print('Número de itens em cada cluster: {}'.format(n_elem_cluster_kmn_cancer))\n",
    "    print('')\n",
    "    n_elem_cluster_kmn_cancer.clear()"
   ]
  },
  {
   "cell_type": "code",
   "execution_count": 11,
   "metadata": {},
   "outputs": [
    {
     "name": "stdout",
     "output_type": "stream",
     "text": [
      "Número de itens no cluster: [151, 304]\n",
      "\n",
      "Número de itens no cluster: [90, 52, 124, 161, 28]\n",
      "\n",
      "Número de itens no cluster: [42, 113, 22, 66, 76, 1, 50, 10, 60, 15]\n",
      "\n"
     ]
    }
   ],
   "source": [
    "n_clusters = [2, 5, 10]\n",
    "\n",
    "n_elementos_cluster = []\n",
    "\n",
    "for n in n_clusters:\n",
    "    model = KMeans(n_clusters=n, random_state=57)\n",
    "    model.fit(X_treino)\n",
    "    for i in range(0, n):\n",
    "        n_elementos_cluster.append(model.labels_[model.labels_ == i].shape[0])\n",
    "    print('Número de itens no cluster: {}'.format(n_elementos_cluster))\n",
    "    print('')\n",
    "    n_elementos_cluster.clear()"
   ]
  },
  {
   "cell_type": "code",
   "execution_count": null,
   "metadata": {},
   "outputs": [],
   "source": []
  }
 ],
 "metadata": {
  "kernelspec": {
   "display_name": "Python 3",
   "language": "python",
   "name": "python3"
  },
  "language_info": {
   "codemirror_mode": {
    "name": "ipython",
    "version": 3
   },
   "file_extension": ".py",
   "mimetype": "text/x-python",
   "name": "python",
   "nbconvert_exporter": "python",
   "pygments_lexer": "ipython3",
   "version": "3.6.5"
  }
 },
 "nbformat": 4,
 "nbformat_minor": 2
}
